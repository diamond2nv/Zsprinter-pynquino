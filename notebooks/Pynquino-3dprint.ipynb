{
 "cells": [
  {
   "cell_type": "code",
   "execution_count": 1,
   "metadata": {},
   "outputs": [
    {
     "data": {
      "application/javascript": [
       "\n",
       "require(['notebook/js/codecell'], function(codecell) {\n",
       "  codecell.CodeCell.options_default.highlight_modes[\n",
       "      'magic_text/x-csrc'] = {'reg':[/^%%microblaze/]};\n",
       "  Jupyter.notebook.events.one('kernel_ready.Kernel', function(){\n",
       "      Jupyter.notebook.get_cells().map(function(cell){\n",
       "          if (cell.cell_type == 'code'){ cell.auto_highlight(); } }) ;\n",
       "  });\n",
       "});\n"
      ]
     },
     "metadata": {},
     "output_type": "display_data"
    }
   ],
   "source": [
    "from pynq.overlays.base import BaseOverlay\n",
    "base = BaseOverlay(\"base.bit\")"
   ]
  },
  {
   "cell_type": "code",
   "execution_count": 2,
   "metadata": {},
   "outputs": [],
   "source": [
    "from pynq.lib.arduino import Arduino_Zsprinter\n",
    "arduino = Arduino_Zsprinter(base.ARDUINO)"
   ]
  },
  {
   "cell_type": "code",
   "execution_count": 3,
   "metadata": {
    "scrolled": true
   },
   "outputs": [
    {
     "data": {
      "image/png": "[encoded data removed]",
      "text/plain": [
       "<matplotlib.figure.Figure at 0x2f517970>"
      ]
     },
     "metadata": {},
     "output_type": "display_data"
    },
    {
     "ename": "KeyboardInterrupt",
     "evalue": "",
     "output_type": "error",
     "traceback": [
      "\u001b[0;31m---------------------------------------------------------------------------\u001b[0m",
      "\u001b[0;31mKeyboardInterrupt\u001b[0m                         Traceback (most recent call last)",
      "\u001b[0;32m<ipython-input-3-d73f8a0318d8>\u001b[0m in \u001b[0;36m<module>\u001b[0;34m()\u001b[0m\n\u001b[1;32m     28\u001b[0m     \u001b[0mdisplay\u001b[0m\u001b[0;34m.\u001b[0m\u001b[0mclear_output\u001b[0m\u001b[0;34m(\u001b[0m\u001b[0mwait\u001b[0m\u001b[0;34m=\u001b[0m\u001b[0;32mTrue\u001b[0m\u001b[0;34m)\u001b[0m\u001b[0;34m\u001b[0m\u001b[0m\n\u001b[1;32m     29\u001b[0m     \u001b[0mdisplay\u001b[0m\u001b[0;34m.\u001b[0m\u001b[0mdisplay\u001b[0m\u001b[0;34m(\u001b[0m\u001b[0mplt\u001b[0m\u001b[0;34m.\u001b[0m\u001b[0mgcf\u001b[0m\u001b[0;34m(\u001b[0m\u001b[0;34m)\u001b[0m\u001b[0;34m)\u001b[0m\u001b[0;34m\u001b[0m\u001b[0m\n\u001b[0;32m---> 30\u001b[0;31m     \u001b[0mtime\u001b[0m\u001b[0;34m.\u001b[0m\u001b[0msleep\u001b[0m\u001b[0;34m(\u001b[0m\u001b[0;36m1\u001b[0m\u001b[0;34m)\u001b[0m\u001b[0;34m\u001b[0m\u001b[0m\n\u001b[0m",
      "\u001b[0;31mKeyboardInterrupt\u001b[0m: "
     ]
    },
    {
     "data": {
      "image/png": "[encoded data removed]",
      "text/plain": [
       "<matplotlib.figure.Figure at 0x2f517970>"
      ]
     },
     "metadata": {},
     "output_type": "display_data"
    }
   ],
   "source": [
    "%matplotlib inline\n",
    "import matplotlib.pyplot as plt\n",
    "from IPython import display\n",
    "import numpy as np\n",
    "import time\n",
    "ts = np.zeros(10)\n",
    "ys = np.zeros(10)\n",
    "t = 1\n",
    "plt.ion()\n",
    "plt.figure()\n",
    "plt.show()\n",
    "li, = plt.plot(ts, ys)\n",
    "plt.ylim(-10, 200)\n",
    "plt.xlabel(\"time[s]\")\n",
    "plt.ylabel(\"Temperature[Celsius]\")\n",
    "while True:\n",
    "    ts = np.append(ts,t)\n",
    "    ts = np.delete(ts, 0)\n",
    "    t += 1\n",
    "    arduino.write(\"M105\\n\")\n",
    "    y = arduino.read_hotend_temp()\n",
    "    ys = np.append(ys,y)\n",
    "    ys = np.delete(ys, 0)\n",
    "    li.set_xdata(ts)\n",
    "    li.set_ydata(ys)         \n",
    "    plt.xlim(min(ts), max(ts))\n",
    "    plt.draw()\n",
    "    display.clear_output(wait=True)\n",
    "    display.display(plt.gcf())\n",
    "    time.sleep(1)"
   ]
  },
  {
   "cell_type": "code",
   "execution_count": 11,
   "metadata": {},
   "outputs": [
    {
     "data": {
      "text/plain": [
       "-1.0"
      ]
     },
     "execution_count": 11,
     "metadata": {},
     "output_type": "execute_result"
    }
   ],
   "source": [
    "arduino.read_hotend_temp()"
   ]
  },
  {
   "cell_type": "code",
   "execution_count": 3,
   "metadata": {},
   "outputs": [],
   "source": [
    "arduino.write(\"M105\\n\")"
   ]
  },
  {
   "cell_type": "code",
   "execution_count": 4,
   "metadata": {},
   "outputs": [
    {
     "data": {
      "text/plain": [
       "-1.0"
      ]
     },
     "execution_count": 4,
     "metadata": {},
     "output_type": "execute_result"
    }
   ],
   "source": [
    "arduino.read_hotend_temp()"
   ]
  },
  {
   "cell_type": "code",
   "execution_count": 14,
   "metadata": {},
   "outputs": [
    {
     "data": {
      "text/plain": [
       "[0.0, 0.0, 0.0, 0.0]"
      ]
     },
     "execution_count": 14,
     "metadata": {},
     "output_type": "execute_result"
    }
   ],
   "source": [
    "arduino.read_current_position()"
   ]
  },
  {
   "cell_type": "code",
   "execution_count": 15,
   "metadata": {},
   "outputs": [],
   "source": [
    "arduino.write(\"M114\\n\")"
   ]
  },
  {
   "cell_type": "code",
   "execution_count": 16,
   "metadata": {},
   "outputs": [
    {
     "data": {
      "text/plain": [
       "[0.0, 0.0, 0.0, 0.0]"
      ]
     },
     "execution_count": 16,
     "metadata": {},
     "output_type": "execute_result"
    }
   ],
   "source": [
    "arduino.read_current_position()"
   ]
  },
  {
   "cell_type": "code",
   "execution_count": null,
   "metadata": {},
   "outputs": [
    {
     "name": "stdout",
     "output_type": "stream",
     "text": [
      "201 G28 ; home all axes\n",
      "\n",
      "206 G1 E-6.4000 F3900\n",
      "\n",
      "207 G1 Z0.500 F9000\n",
      "\n",
      "213 G1 X-1.423 Y-5.302 F9000\n",
      "\n",
      "214 G1 Z0.000 F9000\n",
      "\n",
      "215 G1 E-0.6000 F1170\n",
      "\n",
      "217 G1 X-1.178 Y-5.414 Z0.000 E0.0063 F405\n",
      "\n",
      "218 G1 X-0.939 Y-5.576 Z0.000 E0.0131\n",
      "\n",
      "219 G1 X-0.693 Y-5.790 Z0.001 E0.0208\n",
      "\n",
      "220 G1 X-0.488 Y-6.006 Z0.002 E0.0278\n",
      "\n",
      "221 G1 X-0.300 Y-6.235 Z0.002 E0.0349\n",
      "\n",
      "222 G1 X0.378 Y-7.149 Z0.003 E0.0622\n",
      "\n",
      "223 G1 X0.749 Y-7.560 Z0.005 E0.0755\n",
      "\n",
      "224 G1 X1.116 Y-7.907 Z0.006 E0.0878\n",
      "\n",
      "225 G1 X1.537 Y-8.267 Z0.007 E0.1013\n",
      "\n",
      "226 G1 X2.214 Y-8.785 Z0.008 E0.1222\n",
      "\n",
      "227 G1 X2.516 Y-8.985 Z0.009 E0.1311\n",
      "\n",
      "228 G1 X2.862 Y-9.184 Z0.010 E0.1410\n"
     ]
    }
   ],
   "source": [
    "import time\n",
    "BUFSIZE = 6\n",
    "FAST_DELAY_TIME = 0.01\n",
    "\n",
    "with open('data/octo.gcode') as file:\n",
    "    lines = file.readlines()\n",
    "    line_number = 0\n",
    "    buflen_accum_last = 0\n",
    "    buflen_accum = 0   \n",
    "    bufdiff = 0\n",
    "    buflen_accum_finished = 0\n",
    "    buflen_accum_finished_last = 0\n",
    "    buflen_accum_finished_diff = 0\n",
    "    \n",
    "    for idx,line in enumerate(lines):\n",
    "        cmd = line.strip()+'\\n'\n",
    "        if(cmd[0]==';'):\n",
    "            continue\n",
    "        print(idx,line.strip())\n",
    "        buflen_accum = int(arduino.read_buflen_accum()[0])\n",
    "        buflen = int(arduino.read_buflen()[0])\n",
    "        bufdiff = int(buflen_accum)-int(buflen_accum_last)\n",
    "        arduino.write(cmd)\n",
    "        cnt=0\n",
    "        while(bufdiff<1):\n",
    "            next_buffer_head = int(arduino.read_next_buffer_head()[0])\n",
    "            buflen_accum_last = buflen_accum\n",
    "            buflen_accum = int(arduino.read_buflen_accum()[0])\n",
    "            bufdiff = int(buflen_accum)-int(buflen_accum_last)\n",
    "            time.sleep(FAST_DELAY_TIME)\n",
    "            cnt += 1\n",
    "        cnt=0\n",
    "        buflen = int(arduino.read_buflen()[0])\n",
    "        buflen_accum_finished = int(arduino.read_buflen_accum_finished()[0])\n",
    "        if(buflen>=(BUFSIZE-1)):\n",
    "            while True:\n",
    "                time.sleep(FAST_DELAY_TIME)\n",
    "                buflen_accum_finished_last = buflen_accum_finished\n",
    "                buflen_accum_finished = int(arduino.read_buflen_accum_finished()[0])\n",
    "                buflen_accum_finished_diff = int(buflen_accum_finished)-int(buflen_accum_finished_last)\n",
    "                buflen = int(arduino.read_buflen()[0])\n",
    "                next_buffer_head = int(arduino.read_next_buffer_head()[0])\n",
    "                if(buflen_accum_finished_diff>0):\n",
    "                    break                \n",
    "                cnt += 1\n",
    "        print()\n",
    "\n",
    "print(\"done\")"
   ]
  },
  {
   "cell_type": "code",
   "execution_count": null,
   "metadata": {},
   "outputs": [],
   "source": [
    "import time\n",
    "BUFSIZE = 6\n",
    "DELAY_TIME = 0.1\n",
    "FAST_DELAY_TIME = 0.01\n",
    "FIRST_DELAY_TIME = 0.1\n",
    "\n",
    "with open('data/octo.gcode') as file:\n",
    "#with open('data/20mm_cube.gcode') as file:\n",
    "    lines = file.readlines()\n",
    "    line_number = 0\n",
    "    buflen_accum_last = 0\n",
    "    buflen_accum = 0   \n",
    "    bufdiff = 0\n",
    "    buflen_accum_finished = 0\n",
    "    buflen_accum_finished_last = 0\n",
    "    buflen_accum_finished_diff = 0\n",
    "    \n",
    "    for idx,line in enumerate(lines):\n",
    "        cmd = line.strip()+'\\n'\n",
    "        if(cmd[0]==';'):\n",
    "            continue\n",
    "        print(idx,line.strip())\n",
    "        buflen_accum = int(arduino.read_buflen_accum()[0])\n",
    "        buflen = int(arduino.read_buflen()[0])\n",
    "        bufdiff = int(buflen_accum)-int(buflen_accum_last)\n",
    "        arduino.write(cmd)\n",
    "        cnt=0\n",
    "        while(bufdiff<1):\n",
    "            next_buffer_head = int(arduino.read_next_buffer_head()[0])\n",
    "            buflen_accum_last = buflen_accum\n",
    "            buflen_accum = int(arduino.read_buflen_accum()[0])\n",
    "            bufdiff = int(buflen_accum)-int(buflen_accum_last)\n",
    "            time.sleep(FAST_DELAY_TIME)\n",
    "            #print('.',end='')\n",
    "            if(cnt%1000==0):\n",
    "                print('buflen:',arduino.read_buflen()[0],end='')\n",
    "                print(', buflen_accum',buflen_accum,end='')\n",
    "                print(', bufdiff',bufdiff,end='')\n",
    "                print('next_buffer_head:',next_buffer_head,end='')\n",
    "                print()\n",
    "            cnt += 1\n",
    "        cnt=0\n",
    "        buflen = int(arduino.read_buflen()[0])\n",
    "        buflen_accum_finished = int(arduino.read_buflen_accum_finished()[0])\n",
    "        print('buflen:',arduino.read_buflen()[0],end='')\n",
    "        print(', buflen_accum_finished:',buflen_accum_finished,end='')\n",
    "        print()\n",
    "        if(buflen>=(BUFSIZE-1)):\n",
    "            while True:\n",
    "                time.sleep(FAST_DELAY_TIME)\n",
    "                buflen_accum_finished_last = buflen_accum_finished\n",
    "                buflen_accum_finished = int(arduino.read_buflen_accum_finished()[0])\n",
    "                buflen_accum_finished_diff = int(buflen_accum_finished)-int(buflen_accum_finished_last)\n",
    "                buflen = int(arduino.read_buflen()[0])\n",
    "                next_buffer_head = int(arduino.read_next_buffer_head()[0])\n",
    "#                 if(buflen<(BUFSIZE-1)):\n",
    "#                     print(\"buflen freeed\")\n",
    "#                     break                                \n",
    "                if(buflen_accum_finished_diff>0):\n",
    "                    print(\"ISR finished\")\n",
    "                    break                \n",
    "                if(cnt%1000==0):\n",
    "                    print('buflen:',arduino.read_buflen()[0],end='')\n",
    "                    print(', buflen_accum',buflen_accum,end='')\n",
    "                    print(', bufdiff',bufdiff,end='')\n",
    "                    print(', buflen_accum_finished:',buflen_accum_finished,end='')\n",
    "                    print(', buflen_accum_finished_diff:',buflen_accum_finished_diff,end='')\n",
    "                    print(', next_buffer_head:',next_buffer_head,end='')\n",
    "                    print()\n",
    "                cnt += 1\n",
    "        print()\n",
    "        #buflen_accum_last = buflen_accum\n",
    "\n",
    "print(\"done\")"
   ]
  },
  {
   "cell_type": "code",
   "execution_count": null,
   "metadata": {},
   "outputs": [],
   "source": [
    "import time\n",
    "BUFSIZE = 6\n",
    "DELAY_TIME = 0.1\n",
    "FAST_DELAY_TIME = 0.005\n",
    "FIRST_DELAY_TIME = 0.1\n",
    "\n",
    "with open('data/octo.gcode') as file:\n",
    "#with open('data/20mm_cube.gcode') as file:\n",
    "    lines = file.readlines()\n",
    "    line_number = 0\n",
    "    buflen_accum_last = 0\n",
    "    buflen_accum = 0   \n",
    "    for idx,line in enumerate(lines):\n",
    "        cmd = line.strip()+'\\n'\n",
    "        if(cmd[0]==';'):\n",
    "            continue\n",
    "        print(idx,line.strip())\n",
    "        buflen_accum = int(arduino.read_buflen_accum()[0])\n",
    "        buflen = int(arduino.read_buflen()[0])\n",
    "        bufdiff = int(buflen_accum)-int(buflen_accum_last)\n",
    "        arduino.write(cmd)\n",
    "        cnt=0\n",
    "        while(bufdiff<1):\n",
    "            buflen_accum_last = buflen_accum\n",
    "            buflen_accum = int(arduino.read_buflen_accum()[0])\n",
    "            bufdiff = int(buflen_accum)-int(buflen_accum_last)\n",
    "            time.sleep(FAST_DELAY_TIME)\n",
    "            #print('.',end='')\n",
    "            if(cnt%100==0):\n",
    "                print('buflen:',arduino.read_buflen()[0],end='')\n",
    "                print(', buflen_accum',buflen_accum,end='')\n",
    "                print(', bufdiff',bufdiff,end='')\n",
    "                print()\n",
    "            cnt += 1\n",
    "        cnt=0\n",
    "        buflen = int(arduino.read_buflen()[0])\n",
    "        buflen_accum_finished = int(arduino.read_buflen_accum_finished()[0])\n",
    "        print('buflen:',arduino.read_buflen()[0],end='')\n",
    "        print(', buflen_accum_finished:',buflen_accum_finished,end='')\n",
    "        print()\n",
    "        if(buflen>=(BUFSIZE-1)):\n",
    "            while True:\n",
    "                time.sleep(FAST_DELAY_TIME)\n",
    "                buflen_accum_finished_last = buflen_accum_finished\n",
    "                buflen_accum_finished = int(arduino.read_buflen_accum_finished()[0])\n",
    "                buflen_accum_finished_diff = int(buflen_accum_finished)-int(buflen_accum_finished_last)\n",
    "                buflen = int(arduino.read_buflen()[0])\n",
    "                if(buflen<(BUFSIZE-1)):\n",
    "                    print(\"buflen freeed\")\n",
    "                    break                                \n",
    "                if(buflen_accum_finished_diff>0):\n",
    "                    print(\"ISR finished\")\n",
    "                    break                \n",
    "                if(cnt%1000==0):\n",
    "                    print('buflen:',arduino.read_buflen()[0],end='')\n",
    "                    print(', buflen_accum',buflen_accum,end='')\n",
    "                    print(', bufdiff',bufdiff,end='')\n",
    "                    print(', buflen_accum_finished:',buflen_accum_finished,end='')\n",
    "                    print(', buflen_accum_finished_diff:',buflen_accum_finished_diff,end='')\n",
    "                    print()\n",
    "                cnt += 1\n",
    "        print()\n",
    "        #buflen_accum_last = buflen_accum\n",
    "\n",
    "print(\"done\")"
   ]
  },
  {
   "cell_type": "code",
   "execution_count": null,
   "metadata": {},
   "outputs": [],
   "source": [
    "g28 = \"G28\\n\"\n",
    "gcode = \"G1 X1 Y2\\n\"\n",
    "gcode1 = \"G1 X2 Y4\\n\"\n",
    "gcode2 = \"G1 X3 Y6\\n\"\n",
    "gcode3 = \"G1 X0.3 Y0.6\\n\"\n",
    "gcode4 = \"G1 Z100\\n\"\n",
    "gcode_comment = \"; G-Code generated by Simplify3D(R) Version 4.0.0\\n\"\n",
    "hoge = \"G28 ; home all axes\\n\"\n",
    "first = 'G28\\n';\n",
    "second = 'G1 Z0.325 F3000\\n'\n",
    "gcodes = [gcode,gcode1,gcode2]"
   ]
  },
  {
   "cell_type": "code",
   "execution_count": null,
   "metadata": {},
   "outputs": [],
   "source": [
    "arduino.write(g28)"
   ]
  },
  {
   "cell_type": "code",
   "execution_count": null,
   "metadata": {},
   "outputs": [],
   "source": [
    "import re\n",
    "import sys\n",
    "import pdb\n",
    "from math import sqrt\n",
    "import time\n",
    "\n",
    "g0pattern = r\"^G0.*\"\n",
    "g1pattern = r\"^G1.*\"\n",
    "g0re = re.compile(g0pattern)\n",
    "g1re = re.compile(g1pattern)\n",
    "\n",
    "Xpattern = r\".*X[-\\.\\d]+\"\n",
    "Ypattern = r\".*Y[-\\.\\d]+\"\n",
    "Zpattern = r\".*Z[-\\.\\d]+\"\n",
    "Fpattern = r\".*F\\d+\"\n",
    "Xre = re.compile(Xpattern)\n",
    "Yre = re.compile(Ypattern)\n",
    "Zre = re.compile(Zpattern)\n",
    "Fre = re.compile(Fpattern)\n",
    "BUFSIZE = 6\n",
    "MINIMUM_DELAY_TIME = 0.3"
   ]
  },
  {
   "cell_type": "code",
   "execution_count": null,
   "metadata": {},
   "outputs": [],
   "source": [
    "def parse(line,BUFSIZE,cnt,currentX,currentY,currentZ,currentF):\n",
    "    if Xre.match(line): \n",
    "        nextX = float(re.findall(Xpattern,line)[0].split('X')[1])\n",
    "    else:\n",
    "        nextX = currentX\n",
    "    if Yre.match(line): \n",
    "        nextY = float(re.findall(Ypattern,line)[0].split('Y')[1])\n",
    "    else:\n",
    "        nextY = currentY\n",
    "    if Zre.match(line):\n",
    "        nextZ = float(re.findall(Zpattern,line)[0].split('Z')[1])           \n",
    "    else:\n",
    "        nextZ = currentZ\n",
    "    if Fre.match(line):\n",
    "        nextF = float(re.findall(Fpattern,line)[0].split('F')[1])\n",
    "    else:\n",
    "        nextF = currentF\n",
    "    dr = sqrt((nextX-currentX)**2+(nextY-currentY)**2+(nextZ-currentZ)**2)\n",
    "    v = currentF/60\n",
    "    t = dr/v #[s]\n",
    "    return([t,nextX,nextY,nextZ,nextF])"
   ]
  },
  {
   "cell_type": "code",
   "execution_count": null,
   "metadata": {},
   "outputs": [],
   "source": [
    "import time\n",
    "delay_array = []\n",
    "currentX = 0\n",
    "currentY = 0\n",
    "currentZ = 0\n",
    "currentF = 1000\n",
    "# with open('data/octo.gcode') as file:\n",
    "with open('data/20mm_cube.gcode') as file:\n",
    "    lines = file.readlines()\n",
    "    line_number = 0\n",
    "    for idx,line in enumerate(lines):\n",
    "        cmd = line.strip()+'\\n'\n",
    "        if(cmd[0]==';'):\n",
    "            continue\n",
    "        print(idx,line.strip())\n",
    "        if g0re.match(line) or g1re.match(line):\n",
    "            [t,nextX,nextY,nextZ,nextF] = parse(line,BUFSIZE,line_number,currentX,currentY,currentZ,currentF)\n",
    "            delay_array.append(max(t,MINIMUM_DELAY_TIME))            \n",
    "        else:\n",
    "            delay_array.append(MINIMUM_DELAY_TIME)                        \n",
    "        if(line_number<BUFSIZE):\n",
    "            arduino.write(line)\n",
    "            time.sleep(MINIMUM_DELAY_TIME)\n",
    "        else:\n",
    "            dt = delay_array[line_number-BUFSIZE]\n",
    "            arduino.write(line)\n",
    "            print(\"wait:\",dt)\n",
    "            time.sleep(dt)\n",
    "            currentX = nextX\n",
    "            currentY = nextY\n",
    "            currentZ = nextZ\n",
    "            currentF = nextF \n",
    "        line_number += 1\n",
    "print(\"done\")"
   ]
  },
  {
   "cell_type": "code",
   "execution_count": null,
   "metadata": {},
   "outputs": [],
   "source": [
    "arduino.write(gcode)"
   ]
  },
  {
   "cell_type": "code",
   "execution_count": null,
   "metadata": {},
   "outputs": [],
   "source": [
    "arduino.write(gcode1)"
   ]
  },
  {
   "cell_type": "code",
   "execution_count": null,
   "metadata": {},
   "outputs": [],
   "source": [
    "arduino.write(gcode2)"
   ]
  },
  {
   "cell_type": "code",
   "execution_count": null,
   "metadata": {},
   "outputs": [],
   "source": [
    "arduino.write(hoge)"
   ]
  },
  {
   "cell_type": "code",
   "execution_count": null,
   "metadata": {},
   "outputs": [],
   "source": [
    "arduino.write(first)"
   ]
  },
  {
   "cell_type": "code",
   "execution_count": null,
   "metadata": {},
   "outputs": [],
   "source": [
    "import time\n",
    "arduino.write(\"G28\\n\")\n",
    "print(\"G28 finishied\")\n",
    "arduino.write('G1 Z0.325 F3000\\n')\n",
    "for i in range(15):\n",
    "    print(i,end='')\n",
    "    time.sleep(1)\n",
    "print(\"Go down finishied\")\n",
    "with open('data/20mm_cube.gcode') as file:\n",
    "    lines = file.readlines()\n",
    "    for idx,line in enumerate(lines):\n",
    "        cmd = line.strip()+'\\n'\n",
    "        if(cmd[0]==';'):\n",
    "            continue\n",
    "        arduino.write(cmd)\n",
    "        print(idx,line.strip(),end='')\n",
    "        time.sleep(0.2)\n",
    "print()\n",
    "print(\"done\")"
   ]
  },
  {
   "cell_type": "code",
   "execution_count": null,
   "metadata": {},
   "outputs": [],
   "source": [
    "#import time\n",
    "\n",
    "with open('data/20mm_cube.gcode') as file:\n",
    "    lines = file.readlines()\n",
    "    for idx,line in enumerate(lines):\n",
    "        cmd = line.strip()+'\\n'\n",
    "        if(cmd[0]==';'):\n",
    "            continue\n",
    "        time.sleep(0.7)\n",
    "        print(idx,cmd)\n",
    "        arduino.write(cmd)"
   ]
  },
  {
   "cell_type": "code",
   "execution_count": null,
   "metadata": {},
   "outputs": [],
   "source": [
    "arduino.write('; G-Code generated by Simplify3D(R) Version 4.0.0')"
   ]
  },
  {
   "cell_type": "code",
   "execution_count": null,
   "metadata": {},
   "outputs": [],
   "source": [
    "!cat data/octo.gcode"
   ]
  },
  {
   "cell_type": "code",
   "execution_count": null,
   "metadata": {},
   "outputs": [],
   "source": [
    "!pwd"
   ]
  },
  {
   "cell_type": "code",
   "execution_count": null,
   "metadata": {},
   "outputs": [],
   "source": []
  }
 ],
 "metadata": {
  "kernelspec": {
   "display_name": "Python 3",
   "language": "python",
   "name": "python3"
  },
  "language_info": {
   "codemirror_mode": {
    "name": "ipython",
    "version": 3
   },
   "file_extension": ".py",
   "mimetype": "text/x-python",
   "name": "python",
   "nbconvert_exporter": "python",
   "pygments_lexer": "ipython3",
   "version": "3.6.0"
  }
 },
 "nbformat": 4,
 "nbformat_minor": 2
}
