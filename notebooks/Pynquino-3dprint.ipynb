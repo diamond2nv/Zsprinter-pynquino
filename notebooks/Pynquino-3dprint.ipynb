{
 "cells": [
  {
   "cell_type": "code",
   "execution_count": 1,
   "metadata": {},
   "outputs": [
    {
     "data": {
      "application/javascript": [
       "\n",
       "require(['notebook/js/codecell'], function(codecell) {\n",
       "  codecell.CodeCell.options_default.highlight_modes[\n",
       "      'magic_text/x-csrc'] = {'reg':[/^%%microblaze/]};\n",
       "  Jupyter.notebook.events.one('kernel_ready.Kernel', function(){\n",
       "      Jupyter.notebook.get_cells().map(function(cell){\n",
       "          if (cell.cell_type == 'code'){ cell.auto_highlight(); } }) ;\n",
       "  });\n",
       "});\n"
      ]
     },
     "metadata": {},
     "output_type": "display_data"
    }
   ],
   "source": [
    "from pynq.overlays.base import BaseOverlay\n",
    "base = BaseOverlay(\"base.bit\")\n",
    "from pynq.lib.arduino import Arduino_Zsprinter\n",
    "arduino = Arduino_Zsprinter(base.ARDUINO)"
   ]
  },
  {
   "cell_type": "code",
   "execution_count": 5,
   "metadata": {},
   "outputs": [],
   "source": [
    "arduino.write(\"G28\\n\");"
   ]
  },
  {
   "cell_type": "code",
   "execution_count": 6,
   "metadata": {
    "scrolled": false
   },
   "outputs": [
    {
     "data": {
      "text/plain": [
       "244.0"
      ]
     },
     "execution_count": 6,
     "metadata": {},
     "output_type": "execute_result"
    }
   ],
   "source": [
    "arduino.read_hotend_temp()"
   ]
  },
  {
   "cell_type": "code",
   "execution_count": null,
   "metadata": {},
   "outputs": [],
   "source": [
    "arduino.write(\"M109 S220\\n\")"
   ]
  },
  {
   "cell_type": "code",
   "execution_count": null,
   "metadata": {
    "scrolled": true
   },
   "outputs": [],
   "source": [
    "arduino.update_bram()"
   ]
  },
  {
   "cell_type": "code",
   "execution_count": null,
   "metadata": {},
   "outputs": [],
   "source": [
    "arduino.read_hotend_temp_target()"
   ]
  },
  {
   "cell_type": "code",
   "execution_count": null,
   "metadata": {},
   "outputs": [],
   "source": [
    "arduino.read_hotend_temp_raw()"
   ]
  },
  {
   "cell_type": "code",
   "execution_count": null,
   "metadata": {},
   "outputs": [],
   "source": [
    "arduino.write(\"M303\\n\")"
   ]
  },
  {
   "cell_type": "code",
   "execution_count": null,
   "metadata": {},
   "outputs": [],
   "source": [
    "arduino.read_pid()"
   ]
  },
  {
   "cell_type": "code",
   "execution_count": null,
   "metadata": {},
   "outputs": [],
   "source": [
    "arduino.read_current_position()"
   ]
  },
  {
   "cell_type": "code",
   "execution_count": null,
   "metadata": {},
   "outputs": [],
   "source": [
    "arduino.write(\"G91\\n\");arduino.write(\"G1 E1\\n\");arduino.write(\"G90\\n\");"
   ]
  },
  {
   "cell_type": "code",
   "execution_count": null,
   "metadata": {},
   "outputs": [],
   "source": [
    "arduino.write(\"M221 S200\\n\");"
   ]
  },
  {
   "cell_type": "code",
   "execution_count": 4,
   "metadata": {
    "scrolled": false
   },
   "outputs": [
    {
     "data": {
      "image/png": "[encoded data removed]",
      "text/plain": [
       "<matplotlib.figure.Figure at 0x2f51a6b0>"
      ]
     },
     "metadata": {},
     "output_type": "display_data"
    },
    {
     "name": "stdout",
     "output_type": "stream",
     "text": [
      "1659 G1 E1.60869\r"
     ]
    },
    {
     "ename": "KeyboardInterrupt",
     "evalue": "",
     "output_type": "error",
     "traceback": [
      "\u001b[0;31m---------------------------------------------------------------------------\u001b[0m",
      "\u001b[0;31mKeyboardInterrupt\u001b[0m                         Traceback (most recent call last)",
      "\u001b[0;32m<ipython-input-4-2013a2857b58>\u001b[0m in \u001b[0;36m<module>\u001b[0;34m()\u001b[0m\n\u001b[1;32m     31\u001b[0m             \u001b[0;32mcontinue\u001b[0m\u001b[0;34m\u001b[0m\u001b[0m\n\u001b[1;32m     32\u001b[0m         \u001b[0mprint\u001b[0m\u001b[0;34m(\u001b[0m\u001b[0;34m\"{0} {1}\"\u001b[0m\u001b[0;34m.\u001b[0m\u001b[0mformat\u001b[0m\u001b[0;34m(\u001b[0m\u001b[0midx\u001b[0m\u001b[0;34m,\u001b[0m\u001b[0mline\u001b[0m\u001b[0;34m.\u001b[0m\u001b[0mstrip\u001b[0m\u001b[0;34m(\u001b[0m\u001b[0;34m)\u001b[0m\u001b[0;34m)\u001b[0m\u001b[0;34m,\u001b[0m\u001b[0mend\u001b[0m\u001b[0;34m=\u001b[0m\u001b[0;34m'\\r'\u001b[0m\u001b[0;34m)\u001b[0m\u001b[0;34m\u001b[0m\u001b[0m\n\u001b[0;32m---> 33\u001b[0;31m         \u001b[0marduino\u001b[0m\u001b[0;34m.\u001b[0m\u001b[0mwrite\u001b[0m\u001b[0;34m(\u001b[0m\u001b[0mcmd\u001b[0m\u001b[0;34m)\u001b[0m\u001b[0;34m\u001b[0m\u001b[0m\n\u001b[0m\u001b[1;32m     34\u001b[0m         \u001b[0mcurrent\u001b[0m \u001b[0;34m=\u001b[0m \u001b[0mmillis\u001b[0m\u001b[0;34m(\u001b[0m\u001b[0;34m)\u001b[0m\u001b[0;34m\u001b[0m\u001b[0m\n\u001b[1;32m     35\u001b[0m         \u001b[0;32mif\u001b[0m\u001b[0;34m(\u001b[0m\u001b[0mcurrent\u001b[0m\u001b[0;34m-\u001b[0m\u001b[0mlast\u001b[0m\u001b[0;34m>\u001b[0m\u001b[0;36m10000\u001b[0m\u001b[0;34m)\u001b[0m\u001b[0;34m:\u001b[0m\u001b[0;34m\u001b[0m\u001b[0m\n",
      "\u001b[0;32m/opt/python3.6/lib/python3.6/site-packages/pynq/lib/arduino/arduino_zsprinter.py\u001b[0m in \u001b[0;36mwrite\u001b[0;34m(self, text, x, y)\u001b[0m\n\u001b[1;32m     97\u001b[0m \u001b[0;34m\u001b[0m\u001b[0m\n\u001b[1;32m     98\u001b[0m         \u001b[0;31m# Finally write the print string command\u001b[0m\u001b[0;34m\u001b[0m\u001b[0;34m\u001b[0m\u001b[0m\n\u001b[0;32m---> 99\u001b[0;31m         \u001b[0mself\u001b[0m\u001b[0;34m.\u001b[0m\u001b[0mmicroblaze\u001b[0m\u001b[0;34m.\u001b[0m\u001b[0mwrite_blocking_command\u001b[0m\u001b[0;34m(\u001b[0m\u001b[0mPRINT_STRING\u001b[0m\u001b[0;34m)\u001b[0m\u001b[0;34m\u001b[0m\u001b[0m\n\u001b[0m\u001b[1;32m    100\u001b[0m \u001b[0;34m\u001b[0m\u001b[0m\n\u001b[1;32m    101\u001b[0m     \u001b[0;31m#def start(self):\u001b[0m\u001b[0;34m\u001b[0m\u001b[0;34m\u001b[0m\u001b[0m\n",
      "\u001b[0;32m/opt/python3.6/lib/python3.6/site-packages/pynq/lib/arduino/arduino.py\u001b[0m in \u001b[0;36mwrite_blocking_command\u001b[0;34m(self, command)\u001b[0m\n\u001b[1;32m    153\u001b[0m         \"\"\"\n\u001b[1;32m    154\u001b[0m         \u001b[0mself\u001b[0m\u001b[0;34m.\u001b[0m\u001b[0mwrite\u001b[0m\u001b[0;34m(\u001b[0m\u001b[0mMAILBOX_OFFSET\u001b[0m \u001b[0;34m+\u001b[0m \u001b[0mMAILBOX_PY2IOP_CMD_OFFSET\u001b[0m\u001b[0;34m,\u001b[0m \u001b[0mcommand\u001b[0m\u001b[0;34m)\u001b[0m\u001b[0;34m\u001b[0m\u001b[0m\n\u001b[0;32m--> 155\u001b[0;31m         \u001b[0;32mwhile\u001b[0m \u001b[0mself\u001b[0m\u001b[0;34m.\u001b[0m\u001b[0mread\u001b[0m\u001b[0;34m(\u001b[0m\u001b[0mMAILBOX_OFFSET\u001b[0m \u001b[0;34m+\u001b[0m \u001b[0mMAILBOX_PY2IOP_CMD_OFFSET\u001b[0m\u001b[0;34m)\u001b[0m \u001b[0;34m!=\u001b[0m \u001b[0;36m0\u001b[0m\u001b[0;34m:\u001b[0m\u001b[0;34m\u001b[0m\u001b[0m\n\u001b[0m\u001b[1;32m    156\u001b[0m             \u001b[0;32mpass\u001b[0m\u001b[0;34m\u001b[0m\u001b[0m\n\u001b[1;32m    157\u001b[0m \u001b[0;34m\u001b[0m\u001b[0m\n",
      "\u001b[0;32m/opt/python3.6/lib/python3.6/site-packages/pynq/lib/pynqmicroblaze/pynqmicroblaze.py\u001b[0m in \u001b[0;36mread\u001b[0;34m(self, offset, length)\u001b[0m\n\u001b[1;32m    304\u001b[0m         \"\"\"\n\u001b[1;32m    305\u001b[0m         \u001b[0;32mif\u001b[0m \u001b[0mlength\u001b[0m \u001b[0;34m==\u001b[0m \u001b[0;36m1\u001b[0m\u001b[0;34m:\u001b[0m\u001b[0;34m\u001b[0m\u001b[0m\n\u001b[0;32m--> 306\u001b[0;31m             \u001b[0;32mreturn\u001b[0m \u001b[0mself\u001b[0m\u001b[0;34m.\u001b[0m\u001b[0mmmio\u001b[0m\u001b[0;34m.\u001b[0m\u001b[0mread\u001b[0m\u001b[0;34m(\u001b[0m\u001b[0moffset\u001b[0m\u001b[0;34m)\u001b[0m\u001b[0;34m\u001b[0m\u001b[0m\n\u001b[0m\u001b[1;32m    307\u001b[0m         \u001b[0;32melif\u001b[0m \u001b[0mlength\u001b[0m \u001b[0;34m>\u001b[0m \u001b[0;36m1\u001b[0m\u001b[0;34m:\u001b[0m\u001b[0;34m\u001b[0m\u001b[0m\n\u001b[1;32m    308\u001b[0m             \u001b[0;32mreturn\u001b[0m \u001b[0;34m[\u001b[0m\u001b[0mself\u001b[0m\u001b[0;34m.\u001b[0m\u001b[0mmmio\u001b[0m\u001b[0;34m.\u001b[0m\u001b[0mread\u001b[0m\u001b[0;34m(\u001b[0m\u001b[0moffset\u001b[0m \u001b[0;34m+\u001b[0m \u001b[0;36m4\u001b[0m\u001b[0;34m*\u001b[0m\u001b[0mi\u001b[0m\u001b[0;34m)\u001b[0m \u001b[0;32mfor\u001b[0m \u001b[0mi\u001b[0m \u001b[0;32min\u001b[0m \u001b[0mrange\u001b[0m\u001b[0;34m(\u001b[0m\u001b[0mlength\u001b[0m\u001b[0;34m)\u001b[0m\u001b[0;34m]\u001b[0m\u001b[0;34m\u001b[0m\u001b[0m\n",
      "\u001b[0;31mKeyboardInterrupt\u001b[0m: "
     ]
    },
    {
     "data": {
      "image/png": "[encoded data removed]",
      "text/plain": [
       "<matplotlib.figure.Figure at 0x2f51a6b0>"
      ]
     },
     "metadata": {},
     "output_type": "display_data"
    }
   ],
   "source": [
    "import time\n",
    "def millis():\n",
    "    return int(round(time.time() * 1000))\n",
    "\n",
    "import time\n",
    "BUFSIZE = 6\n",
    "FAST_DELAY_TIME = 0.01\n",
    "\n",
    "%matplotlib inline\n",
    "import matplotlib.pyplot as plt\n",
    "from IPython import display\n",
    "import numpy as np\n",
    "import time\n",
    "ts = np.zeros(30)\n",
    "ys = np.zeros(30)\n",
    "t = 1\n",
    "plt.ion()\n",
    "plt.figure()\n",
    "plt.show()\n",
    "li, = plt.plot(ts, ys)\n",
    "plt.ylim(-10, 300)\n",
    "plt.xlabel(\"time[s]\")\n",
    "plt.ylabel(\"Temperature[Celsius]\")\n",
    "last = millis()\n",
    "\n",
    "with open('data/octo2.gcode') as file:\n",
    "    lines = file.readlines()    \n",
    "    for idx,line in enumerate(lines):\n",
    "        cmd = line.strip()+'\\n'\n",
    "        if(cmd[0]==';'):\n",
    "            continue\n",
    "        print(\"{0} {1}\".format(idx,line.strip()),end='\\r')\n",
    "        arduino.write(cmd)\n",
    "        current = millis()\n",
    "        if(current-last>10000):\n",
    "            ts = np.append(ts,t)\n",
    "            ts = np.delete(ts, 0)\n",
    "            t += 1\n",
    "            y = arduino.read_hotend_temp()\n",
    "            ys = np.append(ys,y)\n",
    "            ys = np.delete(ys, 0)\n",
    "            li.set_xdata(ts)\n",
    "            li.set_ydata(ys)         \n",
    "            plt.xlim(min(ts), max(ts))\n",
    "            plt.ylim(200, 250)\n",
    "            plt.draw()\n",
    "            display.clear_output(wait=True)\n",
    "            display.display(plt.gcf())\n",
    "            #time.sleep(1)\n",
    "            last = current\n",
    "#        print()\n",
    "\n",
    "print(\"done\")"
   ]
  },
  {
   "cell_type": "code",
   "execution_count": null,
   "metadata": {},
   "outputs": [],
   "source": [
    "arduino.write(\"G1 X30\\n\")"
   ]
  },
  {
   "cell_type": "code",
   "execution_count": null,
   "metadata": {},
   "outputs": [],
   "source": [
    "import time\n",
    "def millis():\n",
    "    return int(round(time.time() * 1000))\n",
    "\n",
    "import time\n",
    "BUFSIZE = 6\n",
    "FAST_DELAY_TIME = 0.01\n",
    "\n",
    "%matplotlib inline\n",
    "import matplotlib.pyplot as plt\n",
    "from IPython import display\n",
    "import numpy as np\n",
    "import time\n",
    "ts = np.zeros(30)\n",
    "ys = np.zeros(30)\n",
    "t = 1\n",
    "plt.ion()\n",
    "plt.figure()\n",
    "plt.show()\n",
    "li, = plt.plot(ts, ys)\n",
    "plt.ylim(-10, 300)\n",
    "plt.xlabel(\"time[s]\")\n",
    "plt.ylabel(\"Temperature[Celsius]\")\n",
    "last = millis()\n",
    "last2 = millis()\n",
    "arduino.update_bram()\n",
    "raw = arduino.read_hotend_temp_raw()        \n",
    "target = arduino.read_hotend_temp_target()\n",
    "\n",
    "with open('data/octo.gcode') as file:\n",
    "    lines = file.readlines()\n",
    "    line_number = 0\n",
    "    buflen_accum_last = 0\n",
    "    buflen_accum = 0   \n",
    "    bufdiff = 0\n",
    "    buflen_accum_finished = 0\n",
    "    buflen_accum_finished_last = 0\n",
    "    buflen_accum_finished_diff = 0\n",
    "    \n",
    "    for idx,line in enumerate(lines):\n",
    "        cmd = line.strip()+'\\n'\n",
    "        if(cmd[0]==';'):\n",
    "            continue\n",
    "        print(\"{0} {1} raw:{2},tgt:{3},err:{4}\".format(idx,line.strip(),raw,target,target-raw),end='\\r')\n",
    "        buflen_accum = int(arduino.read_buflen_accum()[0])\n",
    "        buflen = int(arduino.read_buflen()[0])\n",
    "        bufdiff = int(buflen_accum)-int(buflen_accum_last)\n",
    "        arduino.write(cmd)\n",
    "        cnt=0\n",
    "        while(bufdiff<1):\n",
    "            next_buffer_head = int(arduino.read_next_buffer_head()[0])\n",
    "            buflen_accum_last = buflen_accum\n",
    "            buflen_accum = int(arduino.read_buflen_accum()[0])\n",
    "            bufdiff = int(buflen_accum)-int(buflen_accum_last)\n",
    "            time.sleep(FAST_DELAY_TIME)\n",
    "            cnt += 1\n",
    "        cnt=0\n",
    "        buflen = int(arduino.read_buflen()[0])\n",
    "        buflen_accum_finished = int(arduino.read_buflen_accum_finished()[0])\n",
    "        if(buflen>=(BUFSIZE-1)):\n",
    "            while True:\n",
    "                time.sleep(FAST_DELAY_TIME)\n",
    "                buflen_accum_finished_last = buflen_accum_finished\n",
    "                buflen_accum_finished = int(arduino.read_buflen_accum_finished()[0])\n",
    "                buflen_accum_finished_diff = int(buflen_accum_finished)-int(buflen_accum_finished_last)\n",
    "                buflen = int(arduino.read_buflen()[0])\n",
    "                next_buffer_head = int(arduino.read_next_buffer_head()[0])\n",
    "                if(buflen_accum_finished_diff>0):\n",
    "                    break                \n",
    "                cnt += 1\n",
    "        current2 = millis()\n",
    "        if(current2-last2>1000):\n",
    "            arduino.update_bram()\n",
    "            raw = arduino.read_hotend_temp_raw()        \n",
    "            target = arduino.read_hotend_temp_target()\n",
    "            last2 = current2\n",
    "        current = millis()\n",
    "        if(current-last>10000):\n",
    "            ts = np.append(ts,t)\n",
    "            ts = np.delete(ts, 0)\n",
    "            t += 1\n",
    "            y = arduino.read_hotend_temp()\n",
    "            ys = np.append(ys,y)\n",
    "            ys = np.delete(ys, 0)\n",
    "            li.set_xdata(ts)\n",
    "            li.set_ydata(ys)         \n",
    "            plt.xlim(min(ts), max(ts))\n",
    "            plt.ylim(200, 250)\n",
    "            plt.draw()\n",
    "            display.clear_output(wait=True)\n",
    "            display.display(plt.gcf())\n",
    "            #time.sleep(1)\n",
    "            last = current\n",
    "        #print()\n",
    "\n",
    "print(\"done\")"
   ]
  },
  {
   "cell_type": "code",
   "execution_count": null,
   "metadata": {
    "scrolled": true
   },
   "outputs": [],
   "source": [
    "arduino.read_hotend_temp()"
   ]
  },
  {
   "cell_type": "code",
   "execution_count": null,
   "metadata": {},
   "outputs": [],
   "source": [
    "arduino.write(\"M105\\n\")"
   ]
  },
  {
   "cell_type": "code",
   "execution_count": null,
   "metadata": {},
   "outputs": [],
   "source": [
    "arduino.write(\"G92 X0 Y0 Z0 E0\\n\")"
   ]
  },
  {
   "cell_type": "code",
   "execution_count": 7,
   "metadata": {},
   "outputs": [],
   "source": [
    "arduino.write(\"M109 S240\\n\")"
   ]
  },
  {
   "cell_type": "code",
   "execution_count": null,
   "metadata": {},
   "outputs": [],
   "source": [
    "arduino.write(\"G92 X10 Y10 Z10\\n\")"
   ]
  },
  {
   "cell_type": "code",
   "execution_count": null,
   "metadata": {
    "scrolled": false
   },
   "outputs": [],
   "source": [
    "arduino.read_current_position()"
   ]
  },
  {
   "cell_type": "code",
   "execution_count": 12,
   "metadata": {
    "scrolled": true
   },
   "outputs": [
    {
     "data": {
      "application/vnd.jupyter.widget-view+json": {
       "model_id": "10758d0e411c401c9990f59dcbd1be9a",
       "version_major": 2,
       "version_minor": 0
      },
      "text/html": [
       "<p>Failed to display Jupyter Widget of type <code>Button</code>.</p>\n",
       "<p>\n",
       "  If you're reading this message in the Jupyter Notebook or JupyterLab Notebook, it may mean\n",
       "  that the widgets JavaScript is still loading. If this message persists, it\n",
       "  likely means that the widgets JavaScript library is either not installed or\n",
       "  not enabled. See the <a href=\"https://ipywidgets.readthedocs.io/en/stable/user_install.html\">Jupyter\n",
       "  Widgets Documentation</a> for setup instructions.\n",
       "</p>\n",
       "<p>\n",
       "  If you're reading this message in another frontend (for example, a static\n",
       "  rendering on GitHub or <a href=\"https://nbviewer.jupyter.org/\">NBViewer</a>),\n",
       "  it may mean that your frontend doesn't currently support widgets.\n",
       "</p>\n"
      ],
      "text/plain": [
       "Button(description='E +10', style=ButtonStyle())"
      ]
     },
     "metadata": {},
     "output_type": "display_data"
    },
    {
     "data": {
      "application/vnd.jupyter.widget-view+json": {
       "model_id": "53124abba7b748e39f0bb516a5f5435b",
       "version_major": 2,
       "version_minor": 0
      },
      "text/html": [
       "<p>Failed to display Jupyter Widget of type <code>Button</code>.</p>\n",
       "<p>\n",
       "  If you're reading this message in the Jupyter Notebook or JupyterLab Notebook, it may mean\n",
       "  that the widgets JavaScript is still loading. If this message persists, it\n",
       "  likely means that the widgets JavaScript library is either not installed or\n",
       "  not enabled. See the <a href=\"https://ipywidgets.readthedocs.io/en/stable/user_install.html\">Jupyter\n",
       "  Widgets Documentation</a> for setup instructions.\n",
       "</p>\n",
       "<p>\n",
       "  If you're reading this message in another frontend (for example, a static\n",
       "  rendering on GitHub or <a href=\"https://nbviewer.jupyter.org/\">NBViewer</a>),\n",
       "  it may mean that your frontend doesn't currently support widgets.\n",
       "</p>\n"
      ],
      "text/plain": [
       "Button(description='E -10', style=ButtonStyle())"
      ]
     },
     "metadata": {},
     "output_type": "display_data"
    },
    {
     "data": {
      "application/vnd.jupyter.widget-view+json": {
       "model_id": "9ad4af53a7ab45948c980fdc5b9e2693",
       "version_major": 2,
       "version_minor": 0
      },
      "text/html": [
       "<p>Failed to display Jupyter Widget of type <code>Button</code>.</p>\n",
       "<p>\n",
       "  If you're reading this message in the Jupyter Notebook or JupyterLab Notebook, it may mean\n",
       "  that the widgets JavaScript is still loading. If this message persists, it\n",
       "  likely means that the widgets JavaScript library is either not installed or\n",
       "  not enabled. See the <a href=\"https://ipywidgets.readthedocs.io/en/stable/user_install.html\">Jupyter\n",
       "  Widgets Documentation</a> for setup instructions.\n",
       "</p>\n",
       "<p>\n",
       "  If you're reading this message in another frontend (for example, a static\n",
       "  rendering on GitHub or <a href=\"https://nbviewer.jupyter.org/\">NBViewer</a>),\n",
       "  it may mean that your frontend doesn't currently support widgets.\n",
       "</p>\n"
      ],
      "text/plain": [
       "Button(description='Set T=240', style=ButtonStyle())"
      ]
     },
     "metadata": {},
     "output_type": "display_data"
    }
   ],
   "source": [
    "import ipywidgets as widgets\n",
    "from IPython.display import display\n",
    "eup = widgets.Button(description=\"E +10\")\n",
    "edown = widgets.Button(description=\"E -10\")\n",
    "set_t = widgets.Button(description=\"Set T=240\")\n",
    "display(eup)\n",
    "display(edown)\n",
    "display(set_t)\n",
    "\n",
    "def click_eup(b):\n",
    "    arduino.write(\"G91\\n\")\n",
    "    arduino.write(\"G1 E10\\n\")\n",
    "    arduino.write(\"G90\\n\")\n",
    "\n",
    "def click_edown(b):\n",
    "    arduino.write(\"G91\\n\")\n",
    "    arduino.write(\"G1 E-10\\n\")\n",
    "    arduino.write(\"G90\\n\")\n",
    "\n",
    "def click_set_t(b):\n",
    "    arduino.write(\"M109 S240\\n\")\n",
    "\n",
    "eup.on_click(click_eup)\n",
    "edown.on_click(click_edown)\n",
    "set_t.on_click(click_set_t)\n"
   ]
  },
  {
   "cell_type": "code",
   "execution_count": null,
   "metadata": {
    "scrolled": true
   },
   "outputs": [],
   "source": [
    "arduino.write(\"M109 S230\\n\")"
   ]
  },
  {
   "cell_type": "code",
   "execution_count": null,
   "metadata": {
    "scrolled": true
   },
   "outputs": [],
   "source": [
    "%matplotlib inline\n",
    "import matplotlib.pyplot as plt\n",
    "from IPython import display\n",
    "import numpy as np\n",
    "import time\n",
    "ts = np.zeros(100)\n",
    "ys = np.zeros(100)\n",
    "t = 1\n",
    "plt.ion()\n",
    "plt.figure()\n",
    "plt.show()\n",
    "li, = plt.plot(ts, ys)\n",
    "plt.ylim(-10, 250)\n",
    "plt.xlabel(\"time[s]\")\n",
    "plt.ylabel(\"Temperature[Celsius]\")\n",
    "while True:\n",
    "    ts = np.append(ts,t)\n",
    "    ts = np.delete(ts, 0)\n",
    "    t += 1\n",
    "    #arduino.write(\"M105\\n\")\n",
    "    y = arduino.read_hotend_temp()\n",
    "    ys = np.append(ys,y)\n",
    "    ys = np.delete(ys, 0)\n",
    "    li.set_xdata(ts)\n",
    "    li.set_ydata(ys)         \n",
    "    plt.xlim(min(ts), max(ts))\n",
    "    plt.draw()\n",
    "    display.clear_output(wait=True)\n",
    "    display.display(plt.gcf())\n",
    "#     arduino.update_bram()\n",
    "#     raw = arduino.read_hotend_temp_raw()\n",
    "#     target = arduino.read_hotend_temp_target()\n",
    "#     print(\"r:{0},t:{1},err:{2}\".format(raw,target,(target-raw)),end='\\r')\n",
    "    time.sleep(1)"
   ]
  },
  {
   "cell_type": "code",
   "execution_count": null,
   "metadata": {
    "scrolled": false
   },
   "outputs": [],
   "source": [
    "arduino.read_hotend_temp()"
   ]
  },
  {
   "cell_type": "code",
   "execution_count": null,
   "metadata": {},
   "outputs": [],
   "source": [
    "arduino.write(\"M105\\n\")"
   ]
  },
  {
   "cell_type": "code",
   "execution_count": null,
   "metadata": {},
   "outputs": [],
   "source": [
    "arduino.read_hotend_temp()"
   ]
  },
  {
   "cell_type": "code",
   "execution_count": null,
   "metadata": {},
   "outputs": [],
   "source": [
    "arduino.read_current_position()"
   ]
  },
  {
   "cell_type": "code",
   "execution_count": null,
   "metadata": {},
   "outputs": [],
   "source": [
    "arduino.write(\"M114\\n\")"
   ]
  },
  {
   "cell_type": "code",
   "execution_count": null,
   "metadata": {},
   "outputs": [],
   "source": [
    "arduino.read_current_position()"
   ]
  },
  {
   "cell_type": "code",
   "execution_count": null,
   "metadata": {
    "scrolled": true
   },
   "outputs": [],
   "source": [
    "import time\n",
    "BUFSIZE = 6\n",
    "DELAY_TIME = 0.1\n",
    "FAST_DELAY_TIME = 0.01\n",
    "FIRST_DELAY_TIME = 0.1\n",
    "\n",
    "with open('data/octo.gcode') as file:\n",
    "#with open('data/20mm_cube.gcode') as file:\n",
    "    lines = file.readlines()\n",
    "    line_number = 0\n",
    "    buflen_accum_last = 0\n",
    "    buflen_accum = 0   \n",
    "    bufdiff = 0\n",
    "    buflen_accum_finished = 0\n",
    "    buflen_accum_finished_last = 0\n",
    "    buflen_accum_finished_diff = 0\n",
    "    \n",
    "    for idx,line in enumerate(lines):\n",
    "        cmd = line.strip()+'\\n'\n",
    "        if(cmd[0]==';'):\n",
    "            continue\n",
    "        print(idx,line.strip())\n",
    "        buflen_accum = int(arduino.read_buflen_accum()[0])\n",
    "        buflen = int(arduino.read_buflen()[0])\n",
    "        bufdiff = int(buflen_accum)-int(buflen_accum_last)\n",
    "        arduino.write(cmd)\n",
    "        cnt=0\n",
    "        while(bufdiff<1):\n",
    "            next_buffer_head = int(arduino.read_next_buffer_head()[0])\n",
    "            buflen_accum_last = buflen_accum\n",
    "            buflen_accum = int(arduino.read_buflen_accum()[0])\n",
    "            bufdiff = int(buflen_accum)-int(buflen_accum_last)\n",
    "            time.sleep(FAST_DELAY_TIME)\n",
    "            #print('.',end='')\n",
    "            if(cnt%1000==0):\n",
    "                print('buflen:',arduino.read_buflen()[0],end='')\n",
    "                print(', buflen_accum',buflen_accum,end='')\n",
    "                print(', bufdiff',bufdiff,end='')\n",
    "                print('next_buffer_head:',next_buffer_head,end='')\n",
    "                print()\n",
    "            cnt += 1\n",
    "        cnt=0\n",
    "        buflen = int(arduino.read_buflen()[0])\n",
    "        buflen_accum_finished = int(arduino.read_buflen_accum_finished()[0])\n",
    "        print('buflen:',arduino.read_buflen()[0],end='')\n",
    "        print(', buflen_accum_finished:',buflen_accum_finished,end='')\n",
    "        print()\n",
    "        if(buflen>=(BUFSIZE-1)):\n",
    "            while True:\n",
    "                time.sleep(FAST_DELAY_TIME)\n",
    "                buflen_accum_finished_last = buflen_accum_finished\n",
    "                buflen_accum_finished = int(arduino.read_buflen_accum_finished()[0])\n",
    "                buflen_accum_finished_diff = int(buflen_accum_finished)-int(buflen_accum_finished_last)\n",
    "                buflen = int(arduino.read_buflen()[0])\n",
    "                next_buffer_head = int(arduino.read_next_buffer_head()[0])\n",
    "#                 if(buflen<(BUFSIZE-1)):\n",
    "#                     print(\"buflen freeed\")\n",
    "#                     break                                \n",
    "                if(buflen_accum_finished_diff>0):\n",
    "                    print(\"ISR finished\")\n",
    "                    break                \n",
    "                if(cnt%1000==0):\n",
    "                    print('buflen:',arduino.read_buflen()[0],end='')\n",
    "                    print(', buflen_accum',buflen_accum,end='')\n",
    "                    print(', bufdiff',bufdiff,end='')\n",
    "                    print(', buflen_accum_finished:',buflen_accum_finished,end='')\n",
    "                    print(', buflen_accum_finished_diff:',buflen_accum_finished_diff,end='')\n",
    "                    print(', next_buffer_head:',next_buffer_head,end='')\n",
    "                    print()\n",
    "                cnt += 1\n",
    "        print()\n",
    "        #buflen_accum_last = buflen_accum\n",
    "\n",
    "print(\"done\")"
   ]
  },
  {
   "cell_type": "code",
   "execution_count": null,
   "metadata": {},
   "outputs": [],
   "source": [
    "import time\n",
    "BUFSIZE = 6\n",
    "DELAY_TIME = 0.1\n",
    "FAST_DELAY_TIME = 0.005\n",
    "FIRST_DELAY_TIME = 0.1\n",
    "\n",
    "with open('data/octo.gcode') as file:\n",
    "#with open('data/20mm_cube.gcode') as file:\n",
    "    lines = file.readlines()\n",
    "    line_number = 0\n",
    "    buflen_accum_last = 0\n",
    "    buflen_accum = 0   \n",
    "    for idx,line in enumerate(lines):\n",
    "        cmd = line.strip()+'\\n'\n",
    "        if(cmd[0]==';'):\n",
    "            continue\n",
    "        print(idx,line.strip())\n",
    "        buflen_accum = int(arduino.read_buflen_accum()[0])\n",
    "        buflen = int(arduino.read_buflen()[0])\n",
    "        bufdiff = int(buflen_accum)-int(buflen_accum_last)\n",
    "        arduino.write(cmd)\n",
    "        cnt=0\n",
    "        while(bufdiff<1):\n",
    "            buflen_accum_last = buflen_accum\n",
    "            buflen_accum = int(arduino.read_buflen_accum()[0])\n",
    "            bufdiff = int(buflen_accum)-int(buflen_accum_last)\n",
    "            time.sleep(FAST_DELAY_TIME)\n",
    "            #print('.',end='')\n",
    "            if(cnt%100==0):\n",
    "                print('buflen:',arduino.read_buflen()[0],end='')\n",
    "                print(', buflen_accum',buflen_accum,end='')\n",
    "                print(', bufdiff',bufdiff,end='')\n",
    "                print()\n",
    "            cnt += 1\n",
    "        cnt=0\n",
    "        buflen = int(arduino.read_buflen()[0])\n",
    "        buflen_accum_finished = int(arduino.read_buflen_accum_finished()[0])\n",
    "        print('buflen:',arduino.read_buflen()[0],end='')\n",
    "        print(', buflen_accum_finished:',buflen_accum_finished,end='')\n",
    "        print()\n",
    "        if(buflen>=(BUFSIZE-1)):\n",
    "            while True:\n",
    "                time.sleep(FAST_DELAY_TIME)\n",
    "                buflen_accum_finished_last = buflen_accum_finished\n",
    "                buflen_accum_finished = int(arduino.read_buflen_accum_finished()[0])\n",
    "                buflen_accum_finished_diff = int(buflen_accum_finished)-int(buflen_accum_finished_last)\n",
    "                buflen = int(arduino.read_buflen()[0])\n",
    "                if(buflen<(BUFSIZE-1)):\n",
    "                    print(\"buflen freeed\")\n",
    "                    break                                \n",
    "                if(buflen_accum_finished_diff>0):\n",
    "                    print(\"ISR finished\")\n",
    "                    break                \n",
    "                if(cnt%1000==0):\n",
    "                    print('buflen:',arduino.read_buflen()[0],end='')\n",
    "                    print(', buflen_accum',buflen_accum,end='')\n",
    "                    print(', bufdiff',bufdiff,end='')\n",
    "                    print(', buflen_accum_finished:',buflen_accum_finished,end='')\n",
    "                    print(', buflen_accum_finished_diff:',buflen_accum_finished_diff,end='')\n",
    "                    print()\n",
    "                cnt += 1\n",
    "        print()\n",
    "        #buflen_accum_last = buflen_accum\n",
    "\n",
    "print(\"done\")"
   ]
  },
  {
   "cell_type": "code",
   "execution_count": null,
   "metadata": {},
   "outputs": [],
   "source": [
    "g28 = \"G28\\n\"\n",
    "gcode = \"G1 X1 Y2\\n\"\n",
    "gcode1 = \"G1 X2 Y4\\n\"\n",
    "gcode2 = \"G1 X3 Y6\\n\"\n",
    "gcode3 = \"G1 X0.3 Y0.6\\n\"\n",
    "gcode4 = \"G1 Z100\\n\"\n",
    "gcode_comment = \"; G-Code generated by Simplify3D(R) Version 4.0.0\\n\"\n",
    "hoge = \"G28 ; home all axes\\n\"\n",
    "first = 'G28\\n';\n",
    "second = 'G1 Z0.325 F3000\\n'\n",
    "gcodes = [gcode,gcode1,gcode2]"
   ]
  },
  {
   "cell_type": "code",
   "execution_count": null,
   "metadata": {},
   "outputs": [],
   "source": [
    "arduino.write(g28)"
   ]
  },
  {
   "cell_type": "code",
   "execution_count": null,
   "metadata": {},
   "outputs": [],
   "source": [
    "import re\n",
    "import sys\n",
    "import pdb\n",
    "from math import sqrt\n",
    "import time\n",
    "\n",
    "g0pattern = r\"^G0.*\"\n",
    "g1pattern = r\"^G1.*\"\n",
    "g0re = re.compile(g0pattern)\n",
    "g1re = re.compile(g1pattern)\n",
    "\n",
    "Xpattern = r\".*X[-\\.\\d]+\"\n",
    "Ypattern = r\".*Y[-\\.\\d]+\"\n",
    "Zpattern = r\".*Z[-\\.\\d]+\"\n",
    "Fpattern = r\".*F\\d+\"\n",
    "Xre = re.compile(Xpattern)\n",
    "Yre = re.compile(Ypattern)\n",
    "Zre = re.compile(Zpattern)\n",
    "Fre = re.compile(Fpattern)\n",
    "BUFSIZE = 6\n",
    "MINIMUM_DELAY_TIME = 0.3"
   ]
  },
  {
   "cell_type": "code",
   "execution_count": null,
   "metadata": {},
   "outputs": [],
   "source": [
    "def parse(line,BUFSIZE,cnt,currentX,currentY,currentZ,currentF):\n",
    "    if Xre.match(line): \n",
    "        nextX = float(re.findall(Xpattern,line)[0].split('X')[1])\n",
    "    else:\n",
    "        nextX = currentX\n",
    "    if Yre.match(line): \n",
    "        nextY = float(re.findall(Ypattern,line)[0].split('Y')[1])\n",
    "    else:\n",
    "        nextY = currentY\n",
    "    if Zre.match(line):\n",
    "        nextZ = float(re.findall(Zpattern,line)[0].split('Z')[1])           \n",
    "    else:\n",
    "        nextZ = currentZ\n",
    "    if Fre.match(line):\n",
    "        nextF = float(re.findall(Fpattern,line)[0].split('F')[1])\n",
    "    else:\n",
    "        nextF = currentF\n",
    "    dr = sqrt((nextX-currentX)**2+(nextY-currentY)**2+(nextZ-currentZ)**2)\n",
    "    v = currentF/60\n",
    "    t = dr/v #[s]\n",
    "    return([t,nextX,nextY,nextZ,nextF])"
   ]
  },
  {
   "cell_type": "code",
   "execution_count": null,
   "metadata": {},
   "outputs": [],
   "source": [
    "import time\n",
    "delay_array = []\n",
    "currentX = 0\n",
    "currentY = 0\n",
    "currentZ = 0\n",
    "currentF = 1000\n",
    "# with open('data/octo.gcode') as file:\n",
    "with open('data/20mm_cube.gcode') as file:\n",
    "    lines = file.readlines()\n",
    "    line_number = 0\n",
    "    for idx,line in enumerate(lines):\n",
    "        cmd = line.strip()+'\\n'\n",
    "        if(cmd[0]==';'):\n",
    "            continue\n",
    "        print(idx,line.strip())\n",
    "        if g0re.match(line) or g1re.match(line):\n",
    "            [t,nextX,nextY,nextZ,nextF] = parse(line,BUFSIZE,line_number,currentX,currentY,currentZ,currentF)\n",
    "            delay_array.append(max(t,MINIMUM_DELAY_TIME))            \n",
    "        else:\n",
    "            delay_array.append(MINIMUM_DELAY_TIME)                        \n",
    "        if(line_number<BUFSIZE):\n",
    "            arduino.write(line)\n",
    "            time.sleep(MINIMUM_DELAY_TIME)\n",
    "        else:\n",
    "            dt = delay_array[line_number-BUFSIZE]\n",
    "            arduino.write(line)\n",
    "            print(\"wait:\",dt)\n",
    "            time.sleep(dt)\n",
    "            currentX = nextX\n",
    "            currentY = nextY\n",
    "            currentZ = nextZ\n",
    "            currentF = nextF \n",
    "        line_number += 1\n",
    "print(\"done\")"
   ]
  },
  {
   "cell_type": "code",
   "execution_count": null,
   "metadata": {},
   "outputs": [],
   "source": [
    "arduino.write(gcode)"
   ]
  },
  {
   "cell_type": "code",
   "execution_count": null,
   "metadata": {},
   "outputs": [],
   "source": [
    "arduino.write(gcode1)"
   ]
  },
  {
   "cell_type": "code",
   "execution_count": null,
   "metadata": {},
   "outputs": [],
   "source": [
    "arduino.write(gcode2)"
   ]
  },
  {
   "cell_type": "code",
   "execution_count": null,
   "metadata": {},
   "outputs": [],
   "source": [
    "arduino.write(hoge)"
   ]
  },
  {
   "cell_type": "code",
   "execution_count": null,
   "metadata": {},
   "outputs": [],
   "source": [
    "arduino.write(first)"
   ]
  },
  {
   "cell_type": "code",
   "execution_count": null,
   "metadata": {},
   "outputs": [],
   "source": [
    "import time\n",
    "arduino.write(\"G28\\n\")\n",
    "print(\"G28 finishied\")\n",
    "arduino.write('G1 Z0.325 F3000\\n')\n",
    "for i in range(15):\n",
    "    print(i,end='')\n",
    "    time.sleep(1)\n",
    "print(\"Go down finishied\")\n",
    "with open('data/20mm_cube.gcode') as file:\n",
    "    lines = file.readlines()\n",
    "    for idx,line in enumerate(lines):\n",
    "        cmd = line.strip()+'\\n'\n",
    "        if(cmd[0]==';'):\n",
    "            continue\n",
    "        arduino.write(cmd)\n",
    "        print(idx,line.strip(),end='')\n",
    "        time.sleep(0.2)\n",
    "print()\n",
    "print(\"done\")"
   ]
  },
  {
   "cell_type": "code",
   "execution_count": null,
   "metadata": {},
   "outputs": [],
   "source": [
    "#import time\n",
    "\n",
    "with open('data/20mm_cube.gcode') as file:\n",
    "    lines = file.readlines()\n",
    "    for idx,line in enumerate(lines):\n",
    "        cmd = line.strip()+'\\n'\n",
    "        if(cmd[0]==';'):\n",
    "            continue\n",
    "        time.sleep(0.7)\n",
    "        print(idx,cmd)\n",
    "        arduino.write(cmd)"
   ]
  },
  {
   "cell_type": "code",
   "execution_count": null,
   "metadata": {},
   "outputs": [],
   "source": [
    "arduino.write('; G-Code generated by Simplify3D(R) Version 4.0.0')"
   ]
  },
  {
   "cell_type": "code",
   "execution_count": null,
   "metadata": {},
   "outputs": [],
   "source": [
    "!cat data/octo.gcode"
   ]
  },
  {
   "cell_type": "code",
   "execution_count": null,
   "metadata": {},
   "outputs": [],
   "source": [
    "!pwd"
   ]
  },
  {
   "cell_type": "code",
   "execution_count": null,
   "metadata": {},
   "outputs": [],
   "source": []
  }
 ],
 "metadata": {
  "kernelspec": {
   "display_name": "Python 3",
   "language": "python",
   "name": "python3"
  },
  "language_info": {
   "codemirror_mode": {
    "name": "ipython",
    "version": 3
   },
   "file_extension": ".py",
   "mimetype": "text/x-python",
   "name": "python",
   "nbconvert_exporter": "python",
   "pygments_lexer": "ipython3",
   "version": "3.6.0"
  }
 },
 "nbformat": 4,
 "nbformat_minor": 2
}
