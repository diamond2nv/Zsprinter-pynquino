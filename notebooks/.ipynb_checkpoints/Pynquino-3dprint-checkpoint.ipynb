{
 "cells": [
  {
   "cell_type": "code",
   "execution_count": 1,
   "metadata": {},
   "outputs": [
    {
     "data": {
      "application/javascript": [
       "\n",
       "require(['notebook/js/codecell'], function(codecell) {\n",
       "  codecell.CodeCell.options_default.highlight_modes[\n",
       "      'magic_text/x-csrc'] = {'reg':[/^%%microblaze/]};\n",
       "  Jupyter.notebook.events.one('kernel_ready.Kernel', function(){\n",
       "      Jupyter.notebook.get_cells().map(function(cell){\n",
       "          if (cell.cell_type == 'code'){ cell.auto_highlight(); } }) ;\n",
       "  });\n",
       "});\n"
      ]
     },
     "metadata": {},
     "output_type": "display_data"
    }
   ],
   "source": [
    "from pynq.overlays.base import BaseOverlay\n",
    "base = BaseOverlay(\"base.bit\")"
   ]
  },
  {
   "cell_type": "code",
   "execution_count": 2,
   "metadata": {},
   "outputs": [],
   "source": [
    "from pynq.lib.arduino import Arduino_Zsprinter\n",
    "arduino = Arduino_Zsprinter(base.ARDUINO)"
   ]
  },
  {
   "cell_type": "code",
   "execution_count": null,
   "metadata": {},
   "outputs": [],
   "source": [
    "import time\n",
    "BUFSIZE = 6\n",
    "FAST_DELAY_TIME = 0.01\n",
    "\n",
    "with open('data/octo.gcode') as file:\n",
    "    lines = file.readlines()\n",
    "    line_number = 0\n",
    "    buflen_accum_last = 0\n",
    "    buflen_accum = 0   \n",
    "    bufdiff = 0\n",
    "    buflen_accum_finished = 0\n",
    "    buflen_accum_finished_last = 0\n",
    "    buflen_accum_finished_diff = 0\n",
    "    \n",
    "    for idx,line in enumerate(lines):\n",
    "        cmd = line.strip()+'\\n'\n",
    "        if(cmd[0]==';'):\n",
    "            continue\n",
    "        print(idx,line.strip())\n",
    "        buflen_accum = int(arduino.read_buflen_accum()[0])\n",
    "        buflen = int(arduino.read_buflen()[0])\n",
    "        bufdiff = int(buflen_accum)-int(buflen_accum_last)\n",
    "        arduino.write(cmd)\n",
    "        cnt=0\n",
    "        while(bufdiff<1):\n",
    "            next_buffer_head = int(arduino.read_next_buffer_head()[0])\n",
    "            buflen_accum_last = buflen_accum\n",
    "            buflen_accum = int(arduino.read_buflen_accum()[0])\n",
    "            bufdiff = int(buflen_accum)-int(buflen_accum_last)\n",
    "            time.sleep(FAST_DELAY_TIME)\n",
    "            cnt += 1\n",
    "        cnt=0\n",
    "        buflen = int(arduino.read_buflen()[0])\n",
    "        buflen_accum_finished = int(arduino.read_buflen_accum_finished()[0])\n",
    "        if(buflen>=(BUFSIZE-1)):\n",
    "            while True:\n",
    "                time.sleep(FAST_DELAY_TIME)\n",
    "                buflen_accum_finished_last = buflen_accum_finished\n",
    "                buflen_accum_finished = int(arduino.read_buflen_accum_finished()[0])\n",
    "                buflen_accum_finished_diff = int(buflen_accum_finished)-int(buflen_accum_finished_last)\n",
    "                buflen = int(arduino.read_buflen()[0])\n",
    "                next_buffer_head = int(arduino.read_next_buffer_head()[0])\n",
    "                if(buflen_accum_finished_diff>0):\n",
    "                    break                \n",
    "                cnt += 1\n",
    "        print()\n",
    "\n",
    "print(\"done\")"
   ]
  },
  {
   "cell_type": "code",
   "execution_count": 3,
   "metadata": {},
   "outputs": [],
   "source": [
    "g28 = \"G28\\n\"\n",
    "gcode = \"G1 Z100\\n\"\n",
    "# gcode = \"G1 X1 Y2\\n\"\n",
    "gcode1 = \"G1 X2 Y4\\n\"\n",
    "gcode2 = \"G1 X3 Y6\\n\"\n",
    "gcode3 = \"G1 X0.3 Y0.6\\n\""
   ]
  },
  {
   "cell_type": "code",
   "execution_count": 4,
   "metadata": {},
   "outputs": [],
   "source": [
    "arduino.write(g28)"
   ]
  },
  {
   "cell_type": "code",
   "execution_count": 5,
   "metadata": {},
   "outputs": [],
   "source": [
    "arduino.write(gcode)"
   ]
  },
  {
   "cell_type": "code",
   "execution_count": null,
   "metadata": {},
   "outputs": [],
   "source": [
    "arduino.write(gcode1)"
   ]
  },
  {
   "cell_type": "code",
   "execution_count": null,
   "metadata": {},
   "outputs": [],
   "source": [
    "arduino.write(gcode2)"
   ]
  },
  {
   "cell_type": "code",
   "execution_count": 8,
   "metadata": {},
   "outputs": [],
   "source": [
    "arduino.write(gcode3)"
   ]
  },
  {
   "cell_type": "code",
   "execution_count": null,
   "metadata": {},
   "outputs": [],
   "source": []
  }
 ],
 "metadata": {
  "anaconda-cloud": {},
  "kernelspec": {
   "display_name": "Python [default]",
   "language": "python",
   "name": "python3"
  },
  "language_info": {
   "codemirror_mode": {
    "name": "ipython",
    "version": 3
   },
   "file_extension": ".py",
   "mimetype": "text/x-python",
   "name": "python",
   "nbconvert_exporter": "python",
   "pygments_lexer": "ipython3",
   "version": "3.5.5"
  },
  "latex_envs": {
   "LaTeX_envs_menu_present": true,
   "autoclose": false,
   "autocomplete": true,
   "bibliofile": "biblio.bib",
   "cite_by": "apalike",
   "current_citInitial": 1,
   "eqLabelWithNumbers": true,
   "eqNumInitial": 1,
   "hotkeys": {
    "equation": "Ctrl-E",
    "itemize": "Ctrl-I"
   },
   "labels_anchors": false,
   "latex_user_defs": false,
   "report_style_numbering": false,
   "user_envs_cfg": false
  }
 },
 "nbformat": 4,
 "nbformat_minor": 2
}
